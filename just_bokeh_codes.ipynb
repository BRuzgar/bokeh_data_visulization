{
 "cells": [
  {
   "cell_type": "markdown",
   "metadata": {},
   "source": [
    "### Import Libraries\n",
    "___________________________________"
   ]
  },
  {
   "cell_type": "code",
   "execution_count": null,
   "metadata": {},
   "outputs": [],
   "source": [
    "from bokeh.plotting import figure, show\n",
    "from bokeh.io import output_notebook\n",
    "from bokeh.models import Legend"
   ]
  },
  {
   "cell_type": "markdown",
   "metadata": {},
   "source": [
    "###  Line Plot drawings\n",
    "___________________"
   ]
  },
  {
   "cell_type": "code",
   "execution_count": null,
   "metadata": {},
   "outputs": [],
   "source": [
    "\n",
    "# Sets the output for Jupyter Notebook\n",
    "output_notebook()\n",
    "\n",
    "# Data creation\n",
    "x = [2, 4, 6, 8, 10]\n",
    "y = [12, 14, 4, 16, 18]\n",
    "\n",
    "# Creates a figure for bokeh\n",
    "p = figure(title='Basit Bir Cizgi Grafigi', x_axis_label='X', y_axis_label='Y')\n",
    "\n",
    "# Creates the line graph\n",
    "p.line(x, y, legend_label='Cizgi', line_width=2)\n",
    "\n",
    "show(p)"
   ]
  },
  {
   "cell_type": "code",
   "execution_count": null,
   "metadata": {},
   "outputs": [],
   "source": [
    "# Monthly data\n",
    "months = [\"January\", \"February\", \"March\", \"April\", \"May\", \"June\", \"July\", \"August\", \"September\", \"October\", \"November\", \"December\"]\n",
    "product_a_sales = [50, 60, 70, 90, 100, 120, 130, 150, 160, 180, 200, 220]\n",
    "product_b_sales = [30, 40, 50, 70, 85, 95, 105, 110, 130, 140, 150, 170]\n",
    "\n",
    "# Create a figure\n",
    "p = figure(title=\"Monthly Sales Comparison\", x_range=months, x_axis_label=\"Months\", y_axis_label=\"Sales (Units)\", height=400, width=700)\n",
    "\n",
    "# Line plot for Product A\n",
    "line_a = p.line(months, product_a_sales, legend_label=\"Product A\", line_width=2, color=\"blue\")\n",
    "# Line plot for Product B\n",
    "line_b = p.line(months, product_b_sales, legend_label=\"Product B\", line_width=2, color=\"green\")\n",
    "\n",
    "# Position the legend\n",
    "p.legend.location = \"top_left\"\n",
    "\n",
    "# Show the plot\n",
    "show(p)"
   ]
  },
  {
   "cell_type": "markdown",
   "metadata": {},
   "source": [
    "##Scatter Plot Drawings\n",
    "_______"
   ]
  },
  {
   "cell_type": "code",
   "execution_count": null,
   "metadata": {},
   "outputs": [],
   "source": [
    "# Create a new figure with specified dimensions\n",
    "p = figure(width=400, height=400)\n",
    "\n",
    "# Customizations outside the plot area\n",
    "p.outline_line_width = 7\n",
    "p.outline_line_alpha = 0.3\n",
    "p.outline_line_color = \"red\"\n",
    "\n",
    "# Generate data\n",
    "x = [2, 4, 6, 8, 10]\n",
    "y = [12, 8, 4, 16, 18]\n",
    "\n",
    "# Create a scatter plot\n",
    "r = p.circle(x, y, size=15, line_color=\"navy\", fill_color=\"orange\", fill_alpha=0.5)\n",
    "\n",
    "# Show the plot\n",
    "show(p)"
   ]
  },
  {
   "cell_type": "code",
   "execution_count": null,
   "metadata": {},
   "outputs": [],
   "source": [
    "#If you wish, you can make a scatter plot not with circles but with squares.\n",
    "# Create a new figure with specified dimensions\n",
    "p = figure(width=500, height=500)\n",
    "\n",
    "# Customizations outside the plot area\n",
    "p.outline_line_width = 7\n",
    "p.outline_line_alpha = 0.3\n",
    "p.outline_line_color = \"purple\"\n",
    "\n",
    "# Generate data\n",
    "x = [2, 4, 6, 8, 10]\n",
    "y = [12, 8, 4, 16, 18]\n",
    "\n",
    "# Create a scatter plot with squares, optionally specifying size, color, and alpha\n",
    "p.square(x, y, size=[10, 15, 20, 25, 30], line_color=\"black\", color=\"green\", alpha=0.9)\n",
    "\n",
    "# Show the plot\n",
    "show(p)\n"
   ]
  },
  {
   "cell_type": "code",
   "execution_count": null,
   "metadata": {},
   "outputs": [],
   "source": [
    "# Generate Data\n",
    "c = [2, 4, 6, 8, 10]\n",
    "d = [12, 14, 4, 16, 18]\n",
    "\n",
    "# Create the line plot \n",
    "p.line(c, d, legend_label='Line', line_width=6, line_color='red')\n",
    "\n",
    "# Customize plot appearance\n",
    "p.title.text = 'Title'\n",
    "p.xaxis.axis_label = 'X Axis Label'\n",
    "p.yaxis.axis_label = 'Y Axis Label'\n",
    "\n",
    "# Display the plot\n",
    "show(p)"
   ]
  },
  {
   "cell_type": "markdown",
   "metadata": {},
   "source": [
    "## Hexbin Graph\n",
    "\n",
    "Hexbin plot is preferred to visualise the density of points, especially in large datasets. The number of hexagonal cells in the graph indicates how the data points are distributed, with more hexagonal cells representing a denser distribution and fewer hexagonal cells representing a sparser distribution. Areas with higher density are represented by darker colours, while areas with lower density are represented by lighter colours.\n",
    "__________\n"
   ]
  },
  {
   "cell_type": "code",
   "execution_count": null,
   "metadata": {},
   "outputs": [],
   "source": [
    "from bokeh.palettes import Viridis256\n",
    "from bokeh.util.hex import hexbin\n",
    "import numpy as np\n",
    "# Generate data\n",
    "# Create n (50000) normally distributed random x and y points\n",
    "n = 50000\n",
    "x = np.random.standard_normal(n)\n",
    "y = np.random.standard_normal(n)\n",
    "\n",
    "# Create hexbin and define hex cell size\n",
    "bins = hexbin(x, y, 0.1)\n",
    "\n",
    "# Use bins.counts to get the number of points in each hex cell.\n",
    "# Normalize these counts (divide by the maximum number of points) to bring them into the 0-255 range.\n",
    "# Then, map these values to corresponding colors from the Viridis256 color palette.\n",
    "color = [Viridis256[int(i)] for i in bins.counts/max(bins.counts)*255]\n",
    "\n",
    "# Create a Bokeh plot\n",
    "p = figure(tools=\"wheel_zoom,reset\", match_aspect=True, background_fill_color='#440154')\n",
    "p.grid.visible = False\n",
    "\n",
    "# Draw the hexbin plot\n",
    "p.hex_tile(bins.q, bins.r, size=0.1, line_color=None, fill_color=color)\n",
    "\n",
    "# Show the plot\n",
    "show(p)"
   ]
  },
  {
   "cell_type": "markdown",
   "metadata": {},
   "source": [
    "## image & image_rgba Graphics\n",
    "\n",
    "Graphics created with these functions are interpreted in a similar way to heat maps.\n",
    "\n",
    "Images created with the image function create a greyscale image using a single colour palette and can be visualised by converting the value of each pixel into a colour through the colour palette.\n",
    "\n",
    "With the image_rgba function, RGB(A) (Red, Green, Blue, Alpha) is visualised using pixel colours. This function allows the colour values of the pixels to be specified directly. In this way, more customised graphics can be designed without having to use a colour palette.\n",
    "________"
   ]
  },
  {
   "cell_type": "code",
   "execution_count": null,
   "metadata": {},
   "outputs": [],
   "source": [
    "# Create data\n",
    "# Create an x and y array of N points between 0 and 10\n",
    "N = 500\n",
    "x = np.linspace(0, 10, N)\n",
    "y = np.linspace(0, 10, N)\n",
    "\n",
    "# You are creating a 2D grid using arrays x and y.\n",
    "# The matrices xx and yy will contain the coordinates of each point.\n",
    "xx, yy = np.meshgrid(x, y)\n",
    "\n",
    "# Using np.sin(xx) and np.cos(yy) you create an image matrix called img.\n",
    "# This matrix will contain the values of the coordinates xx and yy calculated according to the sine and cosine functions.\n",
    "img = np.sin(xx)*np.cos(yy)\n",
    "\n",
    "# You create a drawing area (p) using the Figure function.\n",
    "# With the x_range and y_range parameters you define the range of the x and y axes.\n",
    "p = figure(x_range=(0, 10), y_range=(0, 10))\n",
    "\n",
    "# We add an image to the drawing area using the image function.\n",
    "# You give the img matrix as the image parameter.\n",
    "# you set the starting point of the image with the x and y parameters.\n",
    "# With the parameters dw and dh you set the width and height of the image. \n",
    "# The palette parameter determines the colour palette of the image.\n",
    "p.image(image=[img], x=0, y=0, dw=10, dh=10, palette=\"Spectral11\")\n",
    "\n",
    "# Show graph\n",
    "show(p)"
   ]
  },
  {
   "cell_type": "code",
   "execution_count": null,
   "metadata": {},
   "outputs": [],
   "source": [
    "from __future__ import division\n",
    "import numpy as np\n",
    "\n",
    "# Assign the value 20 to the variable N.\n",
    "# This is a parameter that determines the size of the image.\n",
    "# The image will be 20x20 pixels in size.\n",
    "N = 20\n",
    "\n",
    "# You are creating a Numpy array called img.\n",
    "# This array represents an image of size N x N.\n",
    "# dtype=np.uint32 parameter\n",
    "# Indicates that each pixel will store its RGBA values as a 32-bit integer.\n",
    "img = np.empty((N, N), dtype=np.uint32) \n",
    "\n",
    "# You are creating a new array called view.\n",
    "# This array provides a view into the img array\n",
    "# Making it possible to access each pixel's RGBA channels separately.\n",
    "# dtype=np.uint8 parameter\n",
    "# Indicates that each RGBA channel will be stored as an 8-bit integer.\n",
    "view = img.view(dtype=np.uint8).reshape((N, N, 4))\n",
    "\n",
    "# Using a for loop, you assign an RGBA value to each pixel.\n",
    "# These values determine the color of the pixel.\n",
    "# The red channel (R) varies based on the pixel's horizontal position.\n",
    "# The green channel (G) is fixed at 158.\n",
    "# The blue channel (B) varies based on the pixel's vertical position.\n",
    "# The alpha channel (A) is fully opaque, with a value of 255.\n",
    "for i in range(N):\n",
    "    for j in range(N):\n",
    "        view[i, j, 0] = int(i/N*255) # red\n",
    "        view[i, j, 1] = 158          # green\n",
    "        view[i, j, 2] = int(j/N*255) # blue\n",
    "        view[i, j, 3] = 255          # alpha\n",
    "        \n",
    "# We create a figure.\n",
    "# The x_range and y_range parameters determine the range of the x and y axes of the plot.\n",
    "p = figure(x_range=[0,10], y_range=[0,10])\n",
    "\n",
    "# We add an RGBA image to the figure using the image_rgba function.\n",
    "p.image_rgba(image=[img], x=[0], y=[0], dw=[10], dh=[10])\n",
    "\n",
    "# Show the plot\n",
    "show(p)"
   ]
  },
  {
   "cell_type": "markdown",
   "metadata": {},
   "source": [
    "##Explanation:\n",
    "Data Creation:\n",
    "\n",
    "N = 20 sets the image size to 20x20 pixels.\n",
    "img is a Numpy array representing the image, with each pixel storing its RGBA values as a 32-bit integer.\n",
    "view provides a view into img, allowing you to access and modify each pixel's RGBA channels as 8-bit integers.\n",
    "Loop Through Pixels:\n",
    "\n",
    "The for loop assigns RGBA values to each pixel. The red channel varies based on the horizontal position, the green channel is constant at 158, the blue channel varies based on the vertical position, and the alpha channel is fully opaque.\n",
    "Plot Creation:\n",
    "\n",
    "A figure is created with x and y ranges from 0 to 10.\n",
    "The image_rgba function adds the generated image to the figure, positioning it at (0,0) with a width and height of 10 units.\n",
    "Display:\n",
    "\n",
    "The show function displays the plot.\n",
    "This example shows how to generate a simple RGBA image using Numpy and display it using Bokeh. Each pixel's color is determined by its position, creating a gradient effect.\n",
    "_________"
   ]
  },
  {
   "cell_type": "markdown",
   "metadata": {},
   "source": [
    "# Interactive Graphics\n",
    "\n",
    "The Bokeh library allows customisation of graphics and interactive viewing of graphics. It also allows for more advanced customisations, such as customising axes and adding images to the background."
   ]
  },
  {
   "cell_type": "markdown",
   "metadata": {},
   "source": [
    "## Glyph\n",
    "\n",
    "Glyphs are used in conjunction with drawing tools and plot objects in the Bokeh library. One or more Glyphs added to the plot area allows visualisation of the dataset and allows users to explore the data interactively.\n",
    "_________\n"
   ]
  },
  {
   "cell_type": "code",
   "execution_count": null,
   "metadata": {},
   "outputs": [],
   "source": [
    "# Create a new figure with specified dimensions\n",
    "p = figure(width=400, height=400)\n",
    "\n",
    "# Customizations outside the plot area\n",
    "p.outline_line_width = 7\n",
    "p.outline_line_alpha = 0.3\n",
    "p.outline_line_color = \"red\"\n",
    "\n",
    "# Generate data\n",
    "x = [2, 4, 6, 8, 10]\n",
    "y = [12, 8, 4, 16, 18]\n",
    "\n",
    "# Create a glyph plot with specified circle size\n",
    "r = p.circle(x, y, size=50)\n",
    "\n",
    "# Set the transparency of the circle fill color\n",
    "r.glyph.fill_alpha = 0.2\n",
    "\n",
    "# Set the color of the circle border\n",
    "r.glyph.line_color = \"firebrick\"\n",
    "\n",
    "# Set the dash pattern of the circle border\n",
    "# and the length of the dashes and spaces [5, 1]\n",
    "r.glyph.line_dash = [5, 1]\n",
    "\n",
    "# Set the thickness of the circle border\n",
    "r.glyph.line_width = 2\n",
    "\n",
    "# Show the plot\n",
    "show(p)"
   ]
  },
  {
   "cell_type": "markdown",
   "metadata": {},
   "source": [
    "# Bokeh Data sets\n",
    "\n",
    "Now let's make a few examples with the data sets embedded in the Bokeh library. First of all, the data sets in the Bokeh library must be downloaded.\n",
    "____"
   ]
  },
  {
   "cell_type": "markdown",
   "metadata": {},
   "source": [
    "#Let's make an interactive graphic example with the ‘glucose’ data set in the Bokeh library.\n",
    "___"
   ]
  },
  {
   "cell_type": "code",
   "execution_count": null,
   "metadata": {},
   "outputs": [],
   "source": [
    "import bokeh.sampledata\n",
    "bokeh.sampledata.download()"
   ]
  },
  {
   "cell_type": "code",
   "execution_count": null,
   "metadata": {},
   "outputs": [],
   "source": [
    "from bokeh.models.tools import HoverTool\n",
    "from bokeh.sampledata.glucose import data\n",
    "\n",
    "# Select data from the \"glucose\" dataset for the date 2010-10-06\n",
    "subset = data.loc['2010-10-06']\n",
    "\n",
    "# Assign the timestamp (index) values to the x variable\n",
    "# and the 'glucose' column values to the y variable\n",
    "x, y = subset.index.to_series(), subset['glucose']\n",
    "\n",
    "# Create a figure with a size of 600 x 300 pixels.\n",
    "# The x_axis_type=\"datetime\" parameter specifies that the x-axis\n",
    "# should be interpreted as a timestamp.\n",
    "# Also, we add a title to the figure.\n",
    "p = figure(width=600, height=300, x_axis_type=\"datetime\", title='Hover over points')\n",
    "\n",
    "# Use the line function to add a line plot to the figure.\n",
    "# The x and y variables specify the coordinates of the line.\n",
    "# The line_dash parameter sets the line to a dashed pattern,\n",
    "# line_width sets the thickness of the line,\n",
    "# and color sets the color of the line.\n",
    "p.line(x, y, line_dash=\"4 4\", line_width=1, color='gray')\n",
    "\n",
    "# Use the circle function to add circle glyphs to the figure.\n",
    "# The x and y variables specify the center coordinates of the circles.\n",
    "# The size parameter sets the size of the circles,\n",
    "# fill_color sets the fill color,\n",
    "# hover_fill_color sets the fill color when hovered over,\n",
    "# fill_alpha sets the fill transparency,\n",
    "# hover_alpha sets the fill transparency when hovered over,\n",
    "# line_color sets the border color,\n",
    "# and hover_line_color sets the border color when hovered over.\n",
    "# The circle function returns a GlyphRenderer object, which is assigned to the variable cr.\n",
    "cr = p.circle(x, y, size=20,\n",
    "              fill_color=\"grey\", hover_fill_color=\"firebrick\",\n",
    "              fill_alpha=0.05, hover_alpha=0.3,\n",
    "              line_color=None, hover_line_color=\"white\")\n",
    "\n",
    "# The tooltips=None parameter specifies that no tooltips should be displayed.\n",
    "# The renderers parameter specifies which renderers (GlyphRenderers)\n",
    "# should be linked to this tool.\n",
    "# The mode='hline' parameter specifies that the tooltips should be displayed\n",
    "# in a horizontal line mode.\n",
    "p.add_tools(HoverTool(tooltips=None, renderers=[cr], mode='hline'))\n",
    "\n",
    "# Show the plot\n",
    "show(p)\n"
   ]
  },
  {
   "cell_type": "markdown",
   "metadata": {},
   "source": [
    "# Explanation:\n",
    "Data Selection:\n",
    "\n",
    "The code selects glucose level data for the date 2010-10-06 from a sample dataset.\n",
    "Figure Creation:\n",
    "\n",
    "A Bokeh figure is created with specific dimensions and a datetime x-axis. The figure is titled \"Hover over points.\"\n",
    "Line Plot:\n",
    "\n",
    "A dashed line plot is added to the figure using the line function, where the color, dash pattern, and thickness are specified.\n",
    "Circle Glyphs:\n",
    "\n",
    "Circle glyphs are added to the figure using the circle function. The appearance of the circles (size, color, transparency, etc.) is customized, and the behavior when hovering over the circles is defined.\n",
    "Hover Tool:\n",
    "\n",
    "A HoverTool is added to the figure, which allows interactivity when hovering over the circle glyphs. The tool is configured to display no tooltips and operate in a horizontal line mode.\n",
    "Display:\n",
    "\n",
    "The plot is displayed using the show function.\n",
    "This example creates an interactive Bokeh plot where hovering over data points highlights them with specified visual properties, without displaying additional tooltips.\n",
    "____________"
   ]
  },
  {
   "cell_type": "code",
   "execution_count": null,
   "metadata": {},
   "outputs": [],
   "source": [
    "from bokeh.sampledata.autompg import autompg\n",
    "from bokeh.models import LinearColorMapper, ColorBar, HoverTool\n",
    "from bokeh.transform import transform\n",
    "from bokeh.plotting import figure, show\n",
    "from bokeh.models.sources import ColumnDataSource\n",
    "\n",
    "source = ColumnDataSource(autompg)\n",
    "color_mapper = LinearColorMapper(palette=\"Viridis256\", low=autompg.weight.min(), high=autompg.weight.max())\n",
    "\n",
    "p = figure(x_axis_label='Horsepower', y_axis_label='MPG', tools='hover', toolbar_location=None)\n",
    "p.circle(x='hp', y='mpg', color=transform('weight', color_mapper), size=20, alpha=0.6, source=autompg)\n",
    "\n",
    "color_bar = ColorBar(color_mapper=color_mapper, label_standoff=12, location=(0,0), title='Weight')\n",
    "p.add_layout(color_bar, 'right')\n",
    "\n",
    "hover = p.select_one(HoverTool)\n",
    "hover.tooltips = [('MPG', '@mpg'), ('Horsepower', '@hp'), ('Weight', '@weight')]\n",
    "\n",
    "show(p)"
   ]
  },
  {
   "cell_type": "markdown",
   "metadata": {},
   "source": [
    "#Let's make another interactive visualisation with the iris data set.\n",
    "___"
   ]
  },
  {
   "cell_type": "code",
   "execution_count": null,
   "metadata": {},
   "outputs": [],
   "source": [
    "from bokeh.plotting import figure, show\n",
    "from bokeh.sampledata.iris import flowers\n",
    "from bokeh.transform import factor_cmap\n",
    "from bokeh.palettes import Category10\n",
    "\n",
    "# Load the dataset\n",
    "df = flowers.copy()\n",
    "\n",
    "# Create a color palette based on flower species\n",
    "color_map = factor_cmap('species', palette=Category10[3], factors=df['species'].unique())\n",
    "\n",
    "# Enable output in Jupyter Notebook\n",
    "output_notebook()\n",
    "\n",
    "# Create a figure\n",
    "p = figure(title='Iris Flowers', x_axis_label='Sepal Length', y_axis_label='Petal Length')\n",
    "\n",
    "# Draw the scatter plot\n",
    "scatter = p.circle(x='sepal_length', y='petal_length', size=8, color=color_map, legend_field='species', source=df)\n",
    "\n",
    "# Create a HoverTool\n",
    "hover = HoverTool(tooltips=[('Sepal Length', '@sepal_length'), ('Petal Length', '@petal_length')], renderers=[scatter])\n",
    "\n",
    "# Add the HoverTool to the figure\n",
    "p.add_tools(hover)\n",
    "\n",
    "# Position the legend\n",
    "p.legend.location = 'top_left'\n",
    "\n",
    "# Show the plot\n",
    "show(p)\n"
   ]
  },
  {
   "cell_type": "markdown",
   "metadata": {},
   "source": [
    "# Result"
   ]
  },
  {
   "cell_type": "markdown",
   "metadata": {},
   "source": [
    "Bokeh is a Python-based visualization library used to transform data into interactive and professional-looking plots. Bokeh offers a wide variety of plot types, including line charts, scatter plots, bar charts, area charts, histograms, maps, and more, providing users with numerous options for data visualization.\n",
    "\n",
    "One of Bokeh's key features is its ability to create interactive plots, as demonstrated above. Users can add interactivity to their plots, such as tooltips, panning, and zooming, which allow for a more detailed exploration of the data. This makes it easier for users to navigate and analyze the visualizations.\n",
    "\n",
    "Another strong feature of Bokeh is its support for color palettes and color mapping methods. These features allow for data to be color-coded, highlighting categories or value ranges, making the visualizations easier to interpret.\n",
    "\n",
    "In conclusion, Bokeh is a powerful library that enables the transformation of data into engaging and interactive visualizations. With its wide range of plotting options, interactive capabilities, and color mapping features, Bokeh enhances data analysis and presentation.\n",
    "\n",
    "I hope this is helpful."
   ]
  },
  {
   "cell_type": "markdown",
   "metadata": {},
   "source": [
    "____"
   ]
  }
 ],
 "metadata": {
  "language_info": {
   "name": "python"
  }
 },
 "nbformat": 4,
 "nbformat_minor": 2
}
